{
 "cells": [
  {
   "cell_type": "code",
   "execution_count": null,
   "metadata": {},
   "outputs": [],
   "source": [
    "from Bio import AlignIO\n",
    "import os\n",
    "from pathlib import Path\n",
    "import blosum\n",
    "from Bio.Align import substitution_matrices\n",
    "from Bio.Align import PairwiseAligner\n",
    "import numpy\n",
    "import pandas"
   ]
  },
  {
   "cell_type": "code",
   "execution_count": null,
   "metadata": {},
   "outputs": [],
   "source": [
    "from matplotlib import pyplot\n",
    "import matplotlib\n",
    "%matplotlib inline\n",
    "matplotlib.style.use(\"ggplot\")\n",
    "matplotlib.rcParams[\"figure.figsize\"] = (30, 30)"
   ]
  },
  {
   "cell_type": "code",
   "execution_count": null,
   "metadata": {},
   "outputs": [],
   "source": [
    "alignment_path = Path(\".\") / \"Alignments\"\n",
    "alignments = {x.split(\".\")[0]: AlignIO.read(alignment_path / x, format=\"clustal\") for x in os.listdir(\"Alignments\")}\n",
    "alignments"
   ]
  },
  {
   "cell_type": "code",
   "execution_count": null,
   "metadata": {},
   "outputs": [],
   "source": [
    "segments = pandas.read_csv(\"Segments.csv\")\n",
    "segments.head()"
   ]
  },
  {
   "cell_type": "code",
   "execution_count": null,
   "metadata": {},
   "outputs": [],
   "source": [
    "segments[\"Initial_AA\"] = segments[\"Initial\"].str[0]\n",
    "segments[\"Initial_N\"] = segments[\"Initial\"].str[1:].astype(int)\n",
    "segments[\"Last_AA\"] = segments[\"Last\"].str[0]\n",
    "segments[\"Last_N\"] = segments[\"Last\"].str[1:].astype(int)\n",
    "segments"
   ]
  },
  {
   "cell_type": "code",
   "execution_count": null,
   "metadata": {},
   "outputs": [],
   "source": [
    "def reference(line, cols=\"Initial\"):\n",
    "    i = 0\n",
    "    for j, aa in enumerate(alignments[line[\"Subunit\"]][0].seq):\n",
    "        if aa != \"-\":\n",
    "            i += 1\n",
    "            if i == line[f\"{cols}_N\"] and aa == line[f\"{cols}_AA\"]:\n",
    "                return j\n",
    "    return -1"
   ]
  },
  {
   "cell_type": "code",
   "execution_count": null,
   "metadata": {},
   "outputs": [],
   "source": [
    "segments[\"Initial_coord\"] = segments.apply(lambda x: reference(x, cols=\"Initial\"), axis=1)\n",
    "segments[\"Last_coord\"] = segments.apply(lambda x: reference(x, cols=\"Last\"), axis=1)\n",
    "segments[\"Length\"] = segments[\"Last_coord\"] - segments[\"Initial_coord\"] + 1\n",
    "segments.head()"
   ]
  },
  {
   "cell_type": "code",
   "execution_count": null,
   "metadata": {},
   "outputs": [],
   "source": [
    "def prepare_matrix(name):\n",
    "    \"\"\"\n",
    "    Adapted substitution matrix:\n",
    "    Maximal number was substracted from all the values, bringing them to negative values with maximum of 0.\n",
    "    Then the values were reveresed so the least likely change is scored the highest.\n",
    "    Finally, all the diagonal values (synonimous change) were changed to 0.\n",
    "    Scaling everything (except indels) to get values between 0 and 1.\n",
    "    Setting insertion and deletion to -0.5.\n",
    "    Setting - => - to 0.\n",
    "    \"\"\"\n",
    "    matrix = substitution_matrices.load(name)\n",
    "\n",
    "    matrix = -(matrix - matrix.max())\n",
    "    numpy.fill_diagonal(matrix, 0)\n",
    "    # Temporary setting of the indels to 0\n",
    "    matrix[-1,:] = 0\n",
    "    matrix[:, -1] = 0\n",
    "    # Scaling\n",
    "    matrix = matrix / matrix.max()\n",
    "    # Setting indels\n",
    "    matrix[-1,:] = -0.5\n",
    "    matrix[:, -1] = -0.5\n",
    "    matrix[-1, -1] = 0\n",
    "    return matrix"
   ]
  },
  {
   "cell_type": "code",
   "execution_count": null,
   "metadata": {},
   "outputs": [],
   "source": [
    "comparisons = {}\n",
    "alternative_alignments = {}\n",
    "aligner = PairwiseAligner()\n",
    "matrix = prepare_matrix(\"BLOSUM90\")\n",
    "aligner.substitution_matrix = substitution_matrices.load(\"BLOSUM90\")\n",
    "\n",
    "for key, alignment in alignments.items():\n",
    "    species_raw = numpy.array([\"_\".join(seq.id.split(\"|\")[1].split(\"_\")[1:]) for seq in alignment])\n",
    "    species_unique, counts = numpy.unique(species_raw, return_counts=True)\n",
    "\n",
    "    if len(species_unique) > 1: # Only compare if there is a comparison to be made\n",
    "        i_homo = int(numpy.where(species_raw == \"Homo_sapiens\")[0][0])\n",
    "        reference_seq = alignment[i_homo]\n",
    "\n",
    "        if (counts > 1).any(): # We have duplicates for the same species so we transfer all that are not maximally similar to the reference into the alternative alignment bucket\n",
    "            to_remove = []\n",
    "            alternative_alignments[key] = {}\n",
    "            for i in numpy.where(counts > 1)[0]:\n",
    "                i_s = [int(x) for x in numpy.where(species_raw == species_unique[i])[0]]\n",
    "                aligner_results = numpy.array([aligner.score(str(reference_seq.seq).replace(\"-\", \"*\"), str(alignment[i_current].seq).replace(\"-\", \"*\")) for i_current in i_s])\n",
    "                del i_s[aligner_results.argmax()]\n",
    "                to_remove.extend(i_s)\n",
    "                alternative_alignments[key][species_unique[i]] = {alignment[i_current].id: alignment[i_current].seq for i_current in i_s}\n",
    "        \n",
    "        species_raw = numpy.array([\"_\".join(seq.id.split(\"|\")[1].split(\"_\")[1:]) for seq in alignment])\n",
    "        comparisons[key] = {}\n",
    "        for i, (spec, seq) in enumerate(zip(species_raw, alignment)):\n",
    "            if i != i_homo:\n",
    "                comparisons[key][spec] = [matrix[x, y] for x, y in zip(str(reference_seq.seq).replace(\"-\", \"*\"), str(seq.seq).replace(\"-\", \"*\"))]"
   ]
  },
  {
   "cell_type": "code",
   "execution_count": null,
   "metadata": {},
   "outputs": [],
   "source": [
    "# Cutoff AA for ECD vs the rest - unified across all the subunits through a comon alignment\n",
    "ecd_cutoff = {\"GABRA1\": (\"G\", 251),\n",
    "              \"GABRA2\": (\"G\", 251),\n",
    "              \"GABRA3\": (\"G\", 276),\n",
    "              \"GABRA4\": (\"G\", 257),\n",
    "              \"GABRA5\": (\"G\", 258),\n",
    "              \"GABRA6\": (\"G\", 241),\n",
    "              \"GABRB1\": (\"G\", 244),\n",
    "              \"GABRB2\": (\"G\", 243),\n",
    "              \"GABRB3\": (\"G\", 244),\n",
    "              \"GABRD\" : (\"G\", 248),\n",
    "              \"GABRE\" : (\"G\", 278),\n",
    "              \"GABRG1\": (\"G\", 271),\n",
    "              \"GABRG2\": (\"G\", 273),\n",
    "              \"GABRG3\": (\"G\", 254),\n",
    "              \"GABRP\" : (\"L\", 243),\n",
    "              \"GABRQ\" : (\"N\", 266),\n",
    "              \"GABRR1\": (\"F\", 282),\n",
    "              \"GABRR2\": (\"F\", 262),\n",
    "              \"GABRR3\": (\"F\", 268),}\n",
    "\n",
    "# Transform the numbers into the correct ones for each alignment\n",
    "def find_cutoff_number(sequence, aa, aa_number):\n",
    "    j = 0\n",
    "    for i, sequence_aa in enumerate(sequence):\n",
    "        if sequence_aa != \"-\":\n",
    "            j += 1\n",
    "            if j == aa_number and sequence_aa == aa:\n",
    "                return i\n",
    "\n",
    "ecd_cutoff_ali = {}\n",
    "for key, (aa, aa_number) in ecd_cutoff.items():\n",
    "    for sequence in alignments[key]:\n",
    "        if \"Homo_sapiens\" in sequence.id:\n",
    "            break\n",
    "    ecd_cutoff_ali[key] = find_cutoff_number(sequence, aa, aa_number)"
   ]
  },
  {
   "cell_type": "code",
   "execution_count": null,
   "metadata": {},
   "outputs": [],
   "source": [
    "# color_names = set(y for x in comparisons.values() for y in x.keys())\n",
    "# cmap = pyplot.get_cmap(\"tab10\")\n",
    "# colors = {name: color for name, color in zip(color_names, numpy.apply_along_axis(matplotlib.colors.rgb2hex, 1, cmap(numpy.arange(len(color_names)))))}\n",
    "\n",
    "colors = {\"Pan_paniscus\": \"#5f59f7\", # blue\n",
    "          \"Pan_troglodytes\": \"#44c2fd\", # blue\n",
    "          \"Macaca_mulatta\": \"#343090\", # blue\n",
    "          \"Bos_taurus\": \"#3a5115\", # green\n",
    "          \"Canis_lupus_familiaris\": \"#58b368\", # green\n",
    "          \"Mustela_putorius_furo\": \"#b47018\", #brown\n",
    "          \"Rattus_norvegicus\": \"#eab062\", # brown\n",
    "          \"Mus_musculus\": \"#7e4711\", # brown\n",
    "          \"Danio_rerio\": \"#ff6150\"} # red\n",
    "\n",
    "comparisons_ecd =  {key: {subkey: comparisons[key][subkey][:i+1] for subkey in comparisons[key].keys()} for key, i in ecd_cutoff_ali.items()}\n",
    "comparisons_rest = {key: {subkey: comparisons[key][subkey][i+1:] for subkey in comparisons[key].keys()} for key, i in ecd_cutoff_ali.items()}\n",
    "\n",
    "print(len(comparisons[\"GABRA1\"][\"Pan_paniscus\"]))\n",
    "print(len(comparisons_ecd[\"GABRA1\"][\"Pan_paniscus\"]))"
   ]
  },
  {
   "cell_type": "code",
   "execution_count": null,
   "metadata": {},
   "outputs": [],
   "source": [
    "cytosines  = {\"GABRA1\": 166,\n",
    "              \"GABRA2\": 166,\n",
    "              \"GABRA3\": 191,\n",
    "              \"GABRA4\": 172,\n",
    "              \"GABRA5\": 173,\n",
    "              \"GABRA6\": 156,\n",
    "              \"GABRB1\": 161,\n",
    "              \"GABRB2\": 160,\n",
    "              \"GABRB3\": 161,\n",
    "              \"GABRD\" : 164,\n",
    "              \"GABRE\" : 195,\n",
    "              \"GABRG1\": 188,\n",
    "              \"GABRG2\": 190,\n",
    "              \"GABRG3\": 171,\n",
    "              \"GABRP\" : 160,\n",
    "              \"GABRQ\" : 183,\n",
    "              \"GABRR1\": 198,\n",
    "              \"GABRR2\": 178,\n",
    "              \"GABRR3\": 184,}\n",
    "\n",
    "# Converting to the alignment numbers\n",
    "cytosines_adjusted = {}\n",
    "for key, aa_number in cytosines.items():\n",
    "    for sequence in alignments[key]:\n",
    "        if \"Homo_sapiens\" in sequence.id:\n",
    "            break\n",
    "    cytosines_adjusted[key] = find_cutoff_number(sequence, \"C\", aa_number)\n",
    "\n",
    "\n",
    "cytosine_length = max(cytosines_adjusted.values())\n",
    "# max_length = max([len(y) for x in comparisons_ecd.values() for y in x.values()])\n",
    "for key, values in comparisons_ecd.items():\n",
    "    for subkey, subvalue in values.items():\n",
    "        comparisons_ecd[key][subkey] = {\"x\": list(range(cytosine_length-cytosines_adjusted[key], len(subvalue)+cytosine_length-cytosines_adjusted[key])),\n",
    "                                        \"y\": subvalue}"
   ]
  },
  {
   "cell_type": "code",
   "execution_count": null,
   "metadata": {},
   "outputs": [],
   "source": [
    "segments[\"Initial_coord_cor\"] = segments.apply(lambda x: (x[\"Initial_coord\"] + (cytosine_length - cytosines_adjusted[x[\"Subunit\"]])), axis=1)\n",
    "segments[\"Last_coord_cor\"] = segments.apply(lambda x: (x[\"Last_coord\"] + (cytosine_length - cytosines_adjusted[x[\"Subunit\"]])), axis=1)\n",
    "segments.loc[segments[\"Marker\"].isin([\"M1\", \"M2\", \"M3\", \"M4\"]), \"Initial_coord_cor\"] = segments[segments[\"Marker\"].isin([\"M1\", \"M2\", \"M3\", \"M4\"])].apply(lambda x: x[\"Initial_coord\"] - ecd_cutoff_ali[x[\"Subunit\"]], axis=1)"
   ]
  },
  {
   "cell_type": "code",
   "execution_count": null,
   "metadata": {},
   "outputs": [],
   "source": [
    "def dict_to_plot(data, rectangles, title=\"\", ticks=True, plot_gaps=True, plot_yaxis=True, colors=dict(), vline=0, share_xaxis=True):\n",
    "    \"\"\"\n",
    "    Function for plotting line-plots from a dictionary containing all the traces to be plotted.\n",
    "    Argument ticks defines if the x-axis ticks should be plotted.\n",
    "    Argument colors contains a dictionary where keys correspond to the keys in data and values being the hex codes for colors to use.\n",
    "    Argument plot_gaps defines if the values where both sequences contain gaps should be plotted.\n",
    "    Argument vline specifies the position of a vertical line if it should be plotted.\n",
    "    \"\"\"\n",
    "    if share_xaxis:\n",
    "        fig, axs = pyplot.subplots(len(data.keys()), 1, sharex=\"all\")\n",
    "    else:\n",
    "        fig, axs = pyplot.subplots(len(data.keys()), 1, sharex=\"none\")\n",
    "\n",
    "    legends = {}\n",
    "\n",
    "    for ax, (subtitle, subdata) in zip(axs, data.items()):\n",
    "        ax.set_facecolor(\"white\")\n",
    "        for i, (key, data_series) in enumerate(subdata.items()):\n",
    "            if plot_gaps:\n",
    "                y = [x+(i*0.01) for x in data_series[\"y\"]] # Adding a shift between the traces\n",
    "            else:\n",
    "                y = [x+(i*0.01) if x != -1.5 else i*0.01 for x in data_series[\"y\"]] # Adding a shift between the traces and removing gaps\n",
    "            if colors:\n",
    "                legends[\" \".join(key.split(\"_\"))] = ax.plot(data_series[\"x\"], y, label=\" \".join(key.split(\"_\")), color=colors[key])[0]\n",
    "            else:\n",
    "                legends[\" \".join(key.split(\"_\"))] = ax.plot(data_series[\"x\"], y, label=\" \".join(key.split(\"_\")))[0]\n",
    "\n",
    "        ax.hlines(-0.1, xmin=data_series[\"x\"][0], xmax=data_series[\"x\"][-1], colors=\"black\", linestyles=\"solid\")\n",
    "\n",
    "        for i, row in rectangles[rectangles[\"Subunit\"] == subtitle].iterrows():\n",
    "            rectangle = ax.add_patch(matplotlib.patches.Rectangle((row[\"Initial_coord_cor\"], -0.9), row[\"Length\"], 0.4, color=row[\"Color\"]))\n",
    "            # rx, ry = rectangle.get_xy()\n",
    "            # cx = rx + rectangle.get_width()/2.0\n",
    "            # cy = ry + rectangle.get_width()/2.0\n",
    "            # ax.annotate(row[\"Marker\"], (cx, cy), color=\"black\", fontsize=12, ha=\"center\", va=\"center\")\n",
    "            # pyplot.text(cx, cy, row[\"Marker\"], horizontalalignment=\"center\", verticalalignment=\"center\", fontsize=12)\n",
    "\n",
    "        ax.grid(False)\n",
    "        ax.spines[\"top\"].set_visible(False)\n",
    "\n",
    "        if plot_yaxis:\n",
    "            ax.set_yticks(ticks=(-0.5, 0, 1))\n",
    "            ax.set_yticklabels((\"INDEL\", 0, 1))\n",
    "        else:\n",
    "            # ax.axes.get_yaxis().set_visible(False)\n",
    "            ax.set_yticks([])\n",
    "            pyplot.axis(\"off\")\n",
    "            pyplot.tick_params(axis=\"both\", left=False, top=False, right=False, bottom=False, labelleft=False, labeltop=False, labelright=False, labelbottom=False)\n",
    "\n",
    "        subtitle = ax.set_title(subtitle, fontdict={\"fontsize\": 20})\n",
    "        subtitle.set_position(ax.yaxis.get_label().get_position() + numpy.array([1.0, -0.5]))\n",
    "        \n",
    "\n",
    "        pyplot.ylim((-0.8, 1))\n",
    "\n",
    "        ax.tick_params(\n",
    "        axis=\"x\",\n",
    "        which=\"both\",\n",
    "        bottom=ticks,\n",
    "        top=False,\n",
    "        labelbottom=ticks\n",
    "        )\n",
    "\n",
    "    if vline:\n",
    "        for i, ax in enumerate(axs):\n",
    "            if i == 0:\n",
    "                ax.axvline(x=vline, ymin=-1.3, ymax=1, c=\"black\", linewidth=2, zorder=-1, clip_on=False, linestyle=\"-\")\n",
    "            else:\n",
    "                ax.axvline(x=vline, ymin=0, ymax=2, c=\"black\", linewidth=2, zorder=-1, clip_on=False, linestyle=\"-\")\n",
    "    legend_order = [\"Pan paniscus\", \"Pan troglodytes\", \"Macaca mulatta\", \"Bos taurus\", \"Canis lupus familiaris\", \"Mustela putorius furo\", \"Rattus norvegicus\", \"Mus musculus\", \"Danio rerio\"]\n",
    "    leg = fig.legend([legends[x] for x in legend_order], legend_order, ncol=len(legends.keys()),\n",
    "                     loc=\"upper center\", bbox_to_anchor=(0.5, 0.1), prop={\"size\": 16}, facecolor=\"white\", framealpha=1, edgecolor=\"white\")\n",
    "\n",
    "    fig.suptitle(title, fontsize=40)\n",
    "    return fig"
   ]
  },
  {
   "cell_type": "code",
   "execution_count": null,
   "metadata": {},
   "outputs": [],
   "source": [
    "print(\"Cytosine: \", cytosines[\"GABRA1\"])\n",
    "print(\"End of ECD :\", ecd_cutoff[\"GABRA1\"])\n",
    "print(\"Length :\", len(comparisons_ecd[\"GABRA1\"][\"Pan_paniscus\"]))\n",
    "print()\n",
    "print(\"Cytosine: \", cytosines[\"GABRA2\"])\n",
    "print(\"End of ECD :\", ecd_cutoff[\"GABRA2\"])\n",
    "print(\"Length :\", len(comparisons_ecd[\"GABRA2\"][\"Pan_paniscus\"]))"
   ]
  },
  {
   "cell_type": "code",
   "execution_count": null,
   "metadata": {},
   "outputs": [],
   "source": [
    "dict_to_plot(comparisons_ecd, segments[~segments[\"Marker\"].isin((\"M1\", \"M2\", \"M3\", \"M4\"))], ticks=False, colors=colors, title=\"ECD\", plot_gaps=True, plot_yaxis=False, vline=cytosine_length)\n",
    "# pyplot.savefig(\"ECD_sequence_comparison.png\", dpi=300, format=\"png\")\n",
    "pyplot.savefig(\"ECD_sequence_comparison.svg\")"
   ]
  },
  {
   "cell_type": "code",
   "execution_count": null,
   "metadata": {},
   "outputs": [],
   "source": [
    "for key, values in comparisons_rest.items():\n",
    "    for subkey, subvalue in values.items():\n",
    "        comparisons_rest[key][subkey] = {\"x\": list(range(1, len(subvalue)+1)),\n",
    "                                        \"y\": subvalue}"
   ]
  },
  {
   "cell_type": "code",
   "execution_count": null,
   "metadata": {},
   "outputs": [],
   "source": [
    "dict_to_plot(comparisons_rest, segments[segments[\"Marker\"].isin([\"M1\", \"M2\", \"M3\", \"M4\"])], ticks=False, colors=colors, title=\"non-ECD\", plot_gaps=True, plot_yaxis=False)\n",
    "# pyplot.savefig(\"Rest_sequence_comparison.png\", dpi=300, format=\"png\")\n",
    "pyplot.savefig(\"Rest_sequence_comparison.svg\")"
   ]
  },
  {
   "cell_type": "code",
   "execution_count": null,
   "metadata": {},
   "outputs": [],
   "source": [
    "print(alternative_alignments.keys())\n",
    "[y.keys() for x in alternative_alignments.values() for y in x.values()]"
   ]
  },
  {
   "cell_type": "code",
   "execution_count": null,
   "metadata": {},
   "outputs": [],
   "source": [
    "human_sequences = {}\n",
    "for key, alignment in alignments.items():\n",
    "    for sequence in alignment:\n",
    "        if \"Homo_sapiens\" in sequence.id:\n",
    "            human_sequences[key] = sequence\n",
    "            break\n",
    "human_sequences"
   ]
  },
  {
   "cell_type": "code",
   "execution_count": null,
   "metadata": {},
   "outputs": [],
   "source": [
    "from  Bio import Align"
   ]
  },
  {
   "cell_type": "code",
   "execution_count": null,
   "metadata": {},
   "outputs": [],
   "source": [
    "# Doing all the alternative alignments\n",
    "alternative_alignments_results = {}\n",
    "aligner = Align.PairwiseAligner()\n",
    "for subalternative in alternative_alignments.values():\n",
    "    for subsubalternative in subalternative.values():\n",
    "        for alternative_key, alternative_sequence in subsubalternative.items():\n",
    "            alignment_best = (\"\", \"\", 0)\n",
    "            for key, sequence in human_sequences.items():\n",
    "                alignment_test = aligner.align(str(sequence.seq).replace(\"-\", \"\"), str(alternative_sequence).replace(\"-\", \"\"))[0]\n",
    "                if alignment_best[-1] < alignment_test.score:\n",
    "                    alignment_best = (key, alignment_test, alignment_test.score)\n",
    "            alternative_alignments_results[f\"{alternative_key}_{alignment_best[0]}\"] = alignment_best[1]\n",
    "print(alternative_alignments_results)"
   ]
  },
  {
   "cell_type": "code",
   "execution_count": null,
   "metadata": {},
   "outputs": [],
   "source": [
    "alternative_alignments_results.keys()"
   ]
  },
  {
   "cell_type": "code",
   "execution_count": null,
   "metadata": {},
   "outputs": [],
   "source": [
    "alternative_alignments = {x.split(\".\")[0]: AlignIO.read(Path(\".\") / \"Alternative_alignments\" / x, format=\"clustal\") for x in os.listdir(\"Alternative_alignments\")}\n",
    "\n",
    "comparisons_alternative = {}\n",
    "for key, alignment in alternative_alignments.items():\n",
    "    comparisons_alternative[key] = [matrix[x, y] for x, y in zip(str(alignment[0].seq).replace(\"-\", \"*\"), str(alignment[1].seq).replace(\"-\", \"*\"))]\n",
    "    comparisons_alternative[key] = {\"Comparison\":{\"x\": list(range(len(comparisons_alternative[key]))),\n",
    "                                                  \"y\": comparisons_alternative[key]}\n",
    "                                    }"
   ]
  },
  {
   "cell_type": "code",
   "execution_count": null,
   "metadata": {},
   "outputs": [],
   "source": [
    "dict_to_plot(comparisons_alternative, ticks=False, title=\"Alternative sequences\", plot_gaps=False, share_xaxis=False)\n",
    "pyplot.savefig(\"Extra_sequences_comparison.png\", dpi=300, format=\"png\")"
   ]
  },
  {
   "cell_type": "code",
   "execution_count": null,
   "metadata": {},
   "outputs": [],
   "source": []
  }
 ],
 "metadata": {
  "kernelspec": {
   "display_name": "Python 3.9.7 ('base')",
   "language": "python",
   "name": "python3"
  },
  "language_info": {
   "codemirror_mode": {
    "name": "ipython",
    "version": 3
   },
   "file_extension": ".py",
   "mimetype": "text/x-python",
   "name": "python",
   "nbconvert_exporter": "python",
   "pygments_lexer": "ipython3",
   "version": "3.9.7"
  },
  "vscode": {
   "interpreter": {
    "hash": "b01d6bb9ee6daf2e9351dbde2a3105d5dc01d7e1f892dac6b4b6531a4b447688"
   }
  }
 },
 "nbformat": 4,
 "nbformat_minor": 4
}
