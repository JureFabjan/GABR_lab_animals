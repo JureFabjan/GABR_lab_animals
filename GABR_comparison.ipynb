{
 "cells": [
  {
   "cell_type": "code",
   "execution_count": null,
   "metadata": {},
   "outputs": [],
   "source": [
    "from Bio import AlignIO\n",
    "import os\n",
    "from pathlib import Path\n",
    "import blosum\n",
    "from Bio.Align import substitution_matrices\n",
    "from Bio.Align import PairwiseAligner\n",
    "import numpy"
   ]
  },
  {
   "cell_type": "code",
   "execution_count": null,
   "metadata": {},
   "outputs": [],
   "source": [
    "from matplotlib import pyplot\n",
    "import matplotlib\n",
    "%matplotlib inline\n",
    "matplotlib.style.use(\"ggplot\")\n",
    "matplotlib.rcParams[\"figure.figsize\"] = (30, 30)"
   ]
  },
  {
   "cell_type": "code",
   "execution_count": null,
   "metadata": {},
   "outputs": [],
   "source": [
    "alignment_path = Path(\".\") / \"Alignments\""
   ]
  },
  {
   "cell_type": "code",
   "execution_count": null,
   "metadata": {},
   "outputs": [],
   "source": [
    "alignments = {x.split(\".\")[0]: AlignIO.read(alignment_path / x, format=\"clustal\") for x in os.listdir(\"Alignments\")}"
   ]
  },
  {
   "cell_type": "code",
   "execution_count": null,
   "metadata": {},
   "outputs": [],
   "source": [
    "alignments"
   ]
  },
  {
   "cell_type": "code",
   "execution_count": null,
   "metadata": {},
   "outputs": [],
   "source": [
    "def prepare_matrix(name):\n",
    "    \"\"\"\n",
    "    Adapted substitution matrix:\n",
    "    Maximal number was substracted from all the values, bringing them to negative values with maximum of 0.\n",
    "    Then the values were reveresed so the least likely change is scored the highest.\n",
    "    Finally, all the diagonal values (synonimous change) were changed to 0.\n",
    "    Scaling everything (except indels) to get values between 0 and 1.\n",
    "    Setting insertion to 2 and deletion to 3.\n",
    "    Setting - => - to -1.\n",
    "    \"\"\"\n",
    "    matrix = substitution_matrices.load(name)\n",
    "\n",
    "    matrix = -(matrix - matrix.max())\n",
    "    numpy.fill_diagonal(matrix, 0)\n",
    "    # Temporary setting of the indels to 0\n",
    "    matrix[-1,:] = 0\n",
    "    matrix[:, -1] = 0\n",
    "    # Scaling\n",
    "    matrix = matrix / matrix.max()\n",
    "    # Setting indels\n",
    "    matrix[-1,:] = -0.5\n",
    "    matrix[:, -1] = -1\n",
    "    matrix[-1, -1] = -1.5\n",
    "    return matrix"
   ]
  },
  {
   "cell_type": "code",
   "execution_count": null,
   "metadata": {},
   "outputs": [],
   "source": [
    "comparisons = {}\n",
    "alternative_alignments = {}\n",
    "aligner = PairwiseAligner()\n",
    "matrix = prepare_matrix(\"BLOSUM90\")\n",
    "aligner.substitution_matrix = substitution_matrices.load(\"BLOSUM90\")\n",
    "\n",
    "for key, alignment in alignments.items():\n",
    "    species_raw = numpy.array([\"_\".join(seq.id.split(\"|\")[1].split(\"_\")[1:]) for seq in alignment])\n",
    "    species_unique, counts = numpy.unique(species_raw, return_counts=True)\n",
    "\n",
    "    if len(species_unique) > 1: # Only compare if there is a comparison to be made\n",
    "        i_homo = int(numpy.where(species_raw == \"Homo_sapiens\")[0][0])\n",
    "        reference_seq = alignment[i_homo]\n",
    "\n",
    "        if (counts > 1).any(): # We have duplicates for the same species so we transfer all that are not maximally similar to the reference into the alternative alignment bucket\n",
    "            to_remove = []\n",
    "            alternative_alignments[key] = {}\n",
    "            for i in numpy.where(counts > 1)[0]:\n",
    "                i_s = [int(x) for x in numpy.where(species_raw == species_unique[i])[0]]\n",
    "                aligner_results = numpy.array([aligner.score(str(reference_seq.seq).replace(\"-\", \"*\"), str(alignment[i_current].seq).replace(\"-\", \"*\")) for i_current in i_s])\n",
    "                del i_s[aligner_results.argmax()]\n",
    "                to_remove.extend(i_s)\n",
    "                alternative_alignments[key][species_unique[i]] = {alignment[i_current].id: alignment[i_current].seq for i_current in i_s}\n",
    "        \n",
    "        species_raw = numpy.array([\"_\".join(seq.id.split(\"|\")[1].split(\"_\")[1:]) for seq in alignment])\n",
    "        comparisons[key] = {}\n",
    "        for i, (spec, seq) in enumerate(zip(species_raw, alignment)):\n",
    "            if i != i_homo:\n",
    "                comparisons[key][spec] = [matrix[x, y] for x, y in zip(str(reference_seq.seq).replace(\"-\", \"*\"), str(seq.seq).replace(\"-\", \"*\"))]"
   ]
  },
  {
   "cell_type": "code",
   "execution_count": null,
   "metadata": {},
   "outputs": [],
   "source": [
    "# Cutoff AA for ECD vs the rest - unified across all the subunits through a comon alignment\n",
    "ecd_cutoff = {\"GABRA1\": (\"G\", 251),\n",
    "              \"GABRA2\": (\"G\", 251),\n",
    "              \"GABRA3\": (\"G\", 276),\n",
    "              \"GABRA4\": (\"G\", 257),\n",
    "              \"GABRA5\": (\"G\", 258),\n",
    "              \"GABRA6\": (\"G\", 241),\n",
    "              \"GABRB1\": (\"G\", 244),\n",
    "              \"GABRB2\": (\"G\", 243),\n",
    "              \"GABRB3\": (\"G\", 244),\n",
    "              \"GABRD\" : (\"G\", 248),\n",
    "              \"GABRE\" : (\"G\", 278),\n",
    "              \"GABRG1\": (\"G\", 271),\n",
    "              \"GABRG2L\": (\"G\", 273),\n",
    "              \"GABRG3\": (\"G\", 254),\n",
    "              \"GABRP\" : (\"L\", 243),\n",
    "              \"GABRQ\" : (\"N\", 266),\n",
    "              \"GABRR1\": (\"F\", 282),\n",
    "              \"GABRR2\": (\"F\", 262),\n",
    "              \"GABRR3\": (\"F\", 268),}\n",
    "\n",
    "# Transform the numbers into the correct ones for each alignment\n",
    "def find_cutoff_number(sequence, aa, aa_number):\n",
    "    j = 0\n",
    "    for i, sequence_aa in enumerate(sequence):\n",
    "        if sequence_aa != \"-\":\n",
    "            j += 1\n",
    "            if j == aa_number and sequence_aa == aa:\n",
    "                return i\n",
    "\n",
    "ecd_cutoff_ali = {}\n",
    "for key, (aa, aa_number) in ecd_cutoff.items():\n",
    "    for sequence in alignments[key]:\n",
    "        if \"Homo_sapiens\" in sequence.id:\n",
    "            break\n",
    "    ecd_cutoff_ali[key] = find_cutoff_number(sequence, aa, aa_number)"
   ]
  },
  {
   "cell_type": "code",
   "execution_count": null,
   "metadata": {},
   "outputs": [],
   "source": [
    "color_names = set(y for x in comparisons.values() for y in x.keys())\n",
    "cmap = pyplot.get_cmap(\"tab10\")\n",
    "colors = {name: color for name, color in zip(color_names, numpy.apply_along_axis(matplotlib.colors.rgb2hex, 1, cmap(numpy.arange(len(color_names)))))}\n",
    "\n",
    "comparisons_ecd =  {key: {subkey: comparisons[key][subkey][:i+1] for subkey in comparisons[key].keys()} for key, i in ecd_cutoff_ali.items()}\n",
    "comparisons_rest = {key: {subkey: comparisons[key][subkey][i+1:] for subkey in comparisons[key].keys()} for key, i in ecd_cutoff_ali.items()}\n",
    "\n",
    "print(len(comparisons[\"GABRA1\"][\"Pan_paniscus\"]))\n",
    "print(len(comparisons_ecd[\"GABRA1\"][\"Pan_paniscus\"]))"
   ]
  },
  {
   "cell_type": "code",
   "execution_count": null,
   "metadata": {},
   "outputs": [],
   "source": [
    "cytosines  = {\"GABRA1\": 166,\n",
    "              \"GABRA2\": 166,\n",
    "              \"GABRA3\": 191,\n",
    "              \"GABRA4\": 172,\n",
    "              \"GABRA5\": 173,\n",
    "              \"GABRA6\": 156,\n",
    "              \"GABRB1\": 161,\n",
    "              \"GABRB2\": 160,\n",
    "              \"GABRB3\": 161,\n",
    "              \"GABRD\" : 164,\n",
    "              \"GABRE\" : 195,\n",
    "              \"GABRG1\": 188,\n",
    "              \"GABRG2L\": 190,\n",
    "              \"GABRG3\": 171,\n",
    "              \"GABRP\" : 160,\n",
    "              \"GABRQ\" : 183,\n",
    "              \"GABRR1\": 198,\n",
    "              \"GABRR2\": 178,\n",
    "              \"GABRR3\": 184,}\n",
    "\n",
    "# Converting to the alignment numbers\n",
    "cytosines_adjusted = {}\n",
    "for key, aa_number in cytosines.items():\n",
    "    for sequence in alignments[key]:\n",
    "        if \"Homo_sapiens\" in sequence.id:\n",
    "            break\n",
    "    cytosines_adjusted[key] = find_cutoff_number(sequence, \"C\", aa_number)\n",
    "\n",
    "\n",
    "cytosine_length = max(cytosines_adjusted.values())\n",
    "# max_length = max([len(y) for x in comparisons_ecd.values() for y in x.values()])\n",
    "for key, values in comparisons_ecd.items():\n",
    "    for subkey, subvalue in values.items():\n",
    "        comparisons_ecd[key][subkey] = {\"x\": list(range(cytosine_length-cytosines_adjusted[key], len(subvalue)+cytosine_length-cytosines_adjusted[key])),\n",
    "                                        \"y\": subvalue}"
   ]
  },
  {
   "cell_type": "code",
   "execution_count": null,
   "metadata": {},
   "outputs": [],
   "source": [
    "def dict_to_plot(data, title=\"\", ticks=True, colors=dict(), plot_gaps=False, vline=0, share_xaxis=True):\n",
    "    \"\"\"\n",
    "    Function for plotting line-plots from a dictionary containing all the traces to be plotted.\n",
    "    Argument ticks defines if the x-axis ticks should be plotted.\n",
    "    Argument colors contains a dictionary where keys correspond to the keys in data and values being the hex codes for colors to use.\n",
    "    Argument plot_gaps defines if the values where both sequences contain gaps should be plotted.\n",
    "    Argument vline specifies the position of a vertical line if it should be plotted.\n",
    "    \"\"\"\n",
    "    if share_xaxis:\n",
    "        fig, axs = pyplot.subplots(len(data.keys()), 1, sharex=\"all\")\n",
    "    else:\n",
    "        fig, axs = pyplot.subplots(len(data.keys()), 1, sharex=\"none\")\n",
    "    \n",
    "    legends = {}\n",
    "\n",
    "    for ax, (subtitle, subdata) in zip(axs, data.items()):\n",
    "        ax.set_facecolor(\"white\")\n",
    "        for i, (key, data_series) in enumerate(subdata.items()):\n",
    "            if plot_gaps:\n",
    "                y = [x+(i*0.01) for x in data_series[\"y\"]] # Adding a shift between the traces\n",
    "            else:\n",
    "                y = [x+(i*0.01) if x != -1.5 else i*0.01 for x in data_series[\"y\"]] # Adding a shift between the traces and removing gaps\n",
    "            if colors:\n",
    "                legends[key] = ax.plot(data_series[\"x\"], y, label=key, color=colors[key])[0]\n",
    "            else:\n",
    "                legends[key] = ax.plot(data_series[\"x\"], y, label=key)[0]\n",
    "\n",
    "        ax.hlines(-0.1, xmin=data_series[\"x\"][0], xmax=data_series[\"x\"][-1], colors=\"black\", linestyles=\"solid\")\n",
    "\n",
    "        ax.set_title(subtitle)\n",
    "        ax.grid(False)\n",
    "        ax.spines[\"top\"].set_visible(False)\n",
    "\n",
    "        if plot_gaps:\n",
    "            ax.set_yticks(ticks=(-1.5, -1, -0.5, 0, 1))\n",
    "            ax.set_yticklabels((\"Both gap\", \"Deletion\", \"Insertion\", 0, 1))\n",
    "        else:\n",
    "            ax.set_yticks(ticks=(-1, -0.5, 0, 1))\n",
    "            ax.set_yticklabels((\"Deletion\", \"Insertion\", 0, 1))\n",
    "\n",
    "        ax.tick_params(\n",
    "        axis=\"x\",\n",
    "        which=\"both\",\n",
    "        bottom=ticks,\n",
    "        top=False,\n",
    "        labelbottom=ticks\n",
    "        )\n",
    "\n",
    "    if vline:\n",
    "        for i, ax in enumerate(axs):\n",
    "            if i == 0:\n",
    "                ax.axvline(x=vline, ymin=-1.3, ymax=1, c=\"black\", linewidth=2, zorder=-1, clip_on=False, linestyle=\"-\")\n",
    "            else:\n",
    "                ax.axvline(x=vline, ymin=0, ymax=2, c=\"black\", linewidth=2, zorder=-1, clip_on=False, linestyle=\"-\")\n",
    "\n",
    "    leg = fig.legend(legends.values(), legends.keys(), ncol=len(legends.keys()), loc=\"upper center\", bbox_to_anchor=(0.5, 0.1))\n",
    "\n",
    "    fig.suptitle(title, fontsize=40)"
   ]
  },
  {
   "cell_type": "code",
   "execution_count": null,
   "metadata": {},
   "outputs": [],
   "source": [
    "print(\"Cytosine: \", cytosines[\"GABRA1\"])\n",
    "print(\"End of ECD :\", ecd_cutoff[\"GABRA1\"])\n",
    "print(\"Length :\", len(comparisons_ecd[\"GABRA1\"][\"Pan_paniscus\"]))\n",
    "print()\n",
    "print(\"Cytosine: \", cytosines[\"GABRA2\"])\n",
    "print(\"End of ECD :\", ecd_cutoff[\"GABRA2\"])\n",
    "print(\"Length :\", len(comparisons_ecd[\"GABRA2\"][\"Pan_paniscus\"]))"
   ]
  },
  {
   "cell_type": "code",
   "execution_count": null,
   "metadata": {},
   "outputs": [],
   "source": [
    "dict_to_plot(comparisons_ecd, ticks=False, colors=colors, title=\"ECD\", plot_gaps=True, vline=cytosine_length)\n",
    "# dict_to_plot(comparisons_rest, ticks=False, colors=colors, title=\"TMD&ICD\", plot_gaps=True)"
   ]
  },
  {
   "cell_type": "code",
   "execution_count": null,
   "metadata": {},
   "outputs": [],
   "source": [
    "print(alternative_alignments.keys())\n",
    "[y.keys() for x in alternative_alignments.values() for y in x.values()]"
   ]
  },
  {
   "cell_type": "code",
   "execution_count": null,
   "metadata": {},
   "outputs": [],
   "source": [
    "human_sequences = {}\n",
    "for key, alignment in alignments.items():\n",
    "    for sequence in alignment:\n",
    "        if \"Homo_sapiens\" in sequence.id:\n",
    "            human_sequences[key] = sequence\n",
    "            break\n",
    "human_sequences"
   ]
  },
  {
   "cell_type": "code",
   "execution_count": null,
   "metadata": {},
   "outputs": [],
   "source": [
    "from  Bio import Align"
   ]
  },
  {
   "cell_type": "code",
   "execution_count": null,
   "metadata": {},
   "outputs": [],
   "source": [
    "# Doing all the alternative alignments\n",
    "alternative_alignments_results = {}\n",
    "aligner = Align.PairwiseAligner()\n",
    "for subalternative in alternative_alignments.values():\n",
    "    for subsubalternative in subalternative.values():\n",
    "        for alternative_key, alternative_sequence in subsubalternative.items():\n",
    "            alignment_best = (\"\", \"\", 0)\n",
    "            for key, sequence in human_sequences.items():\n",
    "                alignment_test = aligner.align(str(sequence.seq).replace(\"-\", \"\"), str(alternative_sequence).replace(\"-\", \"\"))[0]\n",
    "                if alignment_best[-1] < alignment_test.score:\n",
    "                    alignment_best = (key, alignment_test, alignment_test.score)\n",
    "            alternative_alignments_results[f\"{alternative_key}_{alignment_best[0]}\"] = alignment_best[1]\n",
    "print(alternative_alignments_results)"
   ]
  },
  {
   "cell_type": "code",
   "execution_count": null,
   "metadata": {},
   "outputs": [],
   "source": [
    "alternative_alignments_results.keys()"
   ]
  },
  {
   "cell_type": "code",
   "execution_count": null,
   "metadata": {},
   "outputs": [],
   "source": [
    "alternative_alignments = {x.split(\".\")[0]: AlignIO.read(Path(\".\") / \"Alternative_alignments\" / x, format=\"clustal\") for x in os.listdir(\"Alternative_alignments\")}\n",
    "\n",
    "comparisons_alternative = {}\n",
    "for key, alignment in alternative_alignments.items():\n",
    "    comparisons_alternative[key] = [matrix[x, y] for x, y in zip(str(alignment[0].seq).replace(\"-\", \"*\"), str(alignment[1].seq).replace(\"-\", \"*\"))]\n",
    "    comparisons_alternative[key] = {\"Comparison\":{\"x\": list(range(len(comparisons_alternative[key]))),\n",
    "                                                  \"y\": comparisons_alternative[key]}\n",
    "                                    }"
   ]
  },
  {
   "cell_type": "code",
   "execution_count": null,
   "metadata": {},
   "outputs": [],
   "source": [
    "dict_to_plot(comparisons_alternative, ticks=False, title=\"Alternative sequences\", plot_gaps=False, share_xaxis=False)"
   ]
  }
 ],
 "metadata": {
  "interpreter": {
   "hash": "111d1ddb98418e10efb7bc9c9185f2913a12350a7378e6824d8af58e150bbc0b"
  },
  "kernelspec": {
   "display_name": "Python 3.9.7 ('base')",
   "language": "python",
   "name": "python3"
  },
  "language_info": {
   "codemirror_mode": {
    "name": "ipython",
    "version": 3
   },
   "file_extension": ".py",
   "mimetype": "text/x-python",
   "name": "python",
   "nbconvert_exporter": "python",
   "pygments_lexer": "ipython3",
   "version": "3.9.7"
  },
  "orig_nbformat": 4
 },
 "nbformat": 4,
 "nbformat_minor": 2
}
